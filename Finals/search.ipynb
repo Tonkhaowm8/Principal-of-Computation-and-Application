{
 "cells": [
  {
   "cell_type": "markdown",
   "metadata": {},
   "source": [
    "# Differenct types of sort algorithms"
   ]
  },
  {
   "cell_type": "code",
   "execution_count": 8,
   "metadata": {},
   "outputs": [],
   "source": [
    "data = [2, 6, 5, 4, 1, 3]"
   ]
  },
  {
   "cell_type": "markdown",
   "metadata": {},
   "source": [
    "### Quick sort"
   ]
  },
  {
   "cell_type": "markdown",
   "metadata": {},
   "source": [
    "1. Choose a pivot using median of 3 (sort the first, middle and last into it's correct order and choose the middle one as the pivot)\n",
    "2. swap pivot to end of array\n",
    "3. let itemFromLeft be item larger than pivot from the left\n",
    "4. let itemFromRight be item smaller than pivot from the right\n",
    "5. Swap item from left and item from right\n",
    "6. continue from 3 - 5, stop until item from left has greater index than item from right\n",
    "7. swap item from left with pivot\n",
    "8. continue recursively with both partition (the left side is smaller, right side is larger)"
   ]
  },
  {
   "cell_type": "code",
   "execution_count": 10,
   "metadata": {},
   "outputs": [
    {
     "name": "stdout",
     "output_type": "stream",
     "text": [
      "---------------------------------\n",
      "initial data: [2, 1, 3, 4, 6, 5]\n",
      "pivot: 4\n",
      "length: 6\n",
      "sorted data: [2, 1, 3, 4, 6, 5]\n",
      "----------------------------\n",
      "initial data: [2, 1, 3]\n",
      "pivot: 2\n",
      "length: 3\n",
      "sorted data: [1, 2, 3]\n",
      "----------------------------\n",
      "initial data: [1]\n",
      "initial data: [2, 3]\n",
      "pivot: 3\n",
      "length: 2\n",
      "sorted data: [2, 3]\n",
      "----------------------------\n",
      "initial data: [2]\n",
      "initial data: [3]\n",
      "initial data: [4, 6, 5]\n",
      "pivot: 5\n",
      "length: 3\n",
      "sorted data: [4, 5, 6]\n",
      "----------------------------\n",
      "initial data: [4]\n",
      "initial data: [5, 6]\n",
      "pivot: 6\n",
      "length: 2\n",
      "sorted data: [5, 6]\n",
      "----------------------------\n",
      "initial data: [5]\n",
      "initial data: [6]\n",
      "[1, 2, 3, 4, 5, 6]\n"
     ]
    }
   ],
   "source": [
    "def quickSort(data):\n",
    "    #finding pivot\n",
    "    print(f\"initial data: {data}\")\n",
    "    if len(data) == 1:\n",
    "        return data\n",
    "    else:\n",
    "        itemFromLeft = 0\n",
    "        itemFromRight = 0\n",
    "        left = []\n",
    "        right = []\n",
    "        median = len(data)//2\n",
    "        if data[0] > data[median]:\n",
    "            data[0], data[median] = data[median], data[0]\n",
    "        if data[median] > data[-1]:\n",
    "            data[median], data[-1] = data[-1], data[median]\n",
    "        pivot = data[median]\n",
    "\n",
    "        print(\"pivot: \" + str(pivot))\n",
    "        print(\"length: \" + str(len(data)))\n",
    "\n",
    "        data[median], data[-1] = data[-1], data[median]\n",
    "        while True:\n",
    "            for i in range(len(data)):\n",
    "                if data[i] >= pivot:\n",
    "                    itemFromLeft = i\n",
    "                    break\n",
    "            for i in reversed(range(len(data) - 1)):\n",
    "                if data[i] < pivot:\n",
    "                    itemFromRight = i\n",
    "                    break\n",
    "            if itemFromLeft <= itemFromRight:\n",
    "                data[itemFromLeft], data[itemFromRight] = data[itemFromRight], data[itemFromLeft]\n",
    "            else:\n",
    "                break\n",
    "\n",
    "        data[itemFromLeft], data[-1] = data[-1], data[itemFromLeft]\n",
    "        for i in range(len(data)):\n",
    "            if i < median:\n",
    "                left.append(data[i])\n",
    "            else:\n",
    "                right.append(data[i])\n",
    "        print(f\"sorted data: {data}\")\n",
    "        print(\"----------------------------\")\n",
    "        return quickSort(left) + quickSort(right)\n",
    "\n",
    "print(\"---------------------------------\")\n",
    "print(quickSort(data))"
   ]
  },
  {
   "cell_type": "markdown",
   "metadata": {},
   "source": [
    "### Insertion Sort"
   ]
  }
 ],
 "metadata": {
  "kernelspec": {
   "display_name": "Python 3.9.13 64-bit (microsoft store)",
   "language": "python",
   "name": "python3"
  },
  "language_info": {
   "codemirror_mode": {
    "name": "ipython",
    "version": 3
   },
   "file_extension": ".py",
   "mimetype": "text/x-python",
   "name": "python",
   "nbconvert_exporter": "python",
   "pygments_lexer": "ipython3",
   "version": "3.9.13"
  },
  "orig_nbformat": 4,
  "vscode": {
   "interpreter": {
    "hash": "8717c2dc13355d8048b39cd73eea79dbaf699f8798e4be2c6b4f6204c204cb8a"
   }
  }
 },
 "nbformat": 4,
 "nbformat_minor": 2
}
