{
 "cells": [
  {
   "cell_type": "markdown",
   "metadata": {},
   "source": [
    "Siraphop Mukdaphetcharat 64011614"
   ]
  },
  {
   "cell_type": "code",
   "execution_count": 17,
   "metadata": {},
   "outputs": [],
   "source": [
    "#imports\n",
    "from matplotlib import pyplot as plt\n",
    "import time"
   ]
  },
  {
   "cell_type": "markdown",
   "metadata": {},
   "source": [
    "Algorithm m01"
   ]
  },
  {
   "cell_type": "code",
   "execution_count": 27,
   "metadata": {},
   "outputs": [],
   "source": [
    "def m01(n): # Function of algorithm m01\n",
    "    rounds = 0\n",
    "    sum = 0\n",
    "    while rounds < n:\n",
    "        sum += 1\n",
    "        rounds += 2\n",
    "    return sum"
   ]
  },
  {
   "cell_type": "markdown",
   "metadata": {},
   "source": [
    "Algorithm m02"
   ]
  },
  {
   "cell_type": "code",
   "execution_count": null,
   "metadata": {},
   "outputs": [],
   "source": [
    "def m02(n): # Function of algorithm m02\n",
    "    rounds = 0\n",
    "    sum = 0\n",
    "    while rounds < n:\n",
    "        sum += 1\n",
    "        rounds += 2\n",
    "    return sum"
   ]
  },
  {
   "cell_type": "markdown",
   "metadata": {},
   "source": [
    "Algorithm m03"
   ]
  },
  {
   "cell_type": "code",
   "execution_count": null,
   "metadata": {},
   "outputs": [],
   "source": [
    "def m03(n): # Function of algorithm m03\n",
    "    round1s = 0\n",
    "    sum = 0\n",
    "    while round1s < n:\n",
    "        round2s = 0\n",
    "        while round2s < n:\n",
    "            sum += 1\n",
    "            round2s += 1\n",
    "        round1s += 1\n",
    "    return sum"
   ]
  },
  {
   "cell_type": "markdown",
   "metadata": {},
   "source": [
    "Algorithm m04"
   ]
  },
  {
   "cell_type": "code",
   "execution_count": null,
   "metadata": {},
   "outputs": [],
   "source": [
    "def m04(n): # Function of algorithm m04\n",
    "    round1s = 0\n",
    "    sum = 0\n",
    "    while round1s < n:\n",
    "        round2s = 0\n",
    "        while round2s < n:\n",
    "            sum += 1\n",
    "            round2s += 10\n",
    "        round1s += 20\n",
    "    return sum"
   ]
  },
  {
   "cell_type": "markdown",
   "metadata": {},
   "source": [
    "Algorithm m05"
   ]
  },
  {
   "cell_type": "code",
   "execution_count": null,
   "metadata": {},
   "outputs": [],
   "source": [
    "def m05(n): # Function of algorithm m05\n",
    "    round1s = 0\n",
    "    sum = 0\n",
    "    while round1s < n:\n",
    "        sum += 1\n",
    "        round1s = 0\n",
    "    round2s = 0\n",
    "    while round2s < n:\n",
    "        sum += 1\n",
    "        round2s += 1\n",
    "    return sum"
   ]
  },
  {
   "cell_type": "markdown",
   "metadata": {},
   "source": [
    "Algorithm m06"
   ]
  },
  {
   "cell_type": "code",
   "execution_count": null,
   "metadata": {},
   "outputs": [],
   "source": [
    "def m06(n): # Function of algorithm m06\n",
    "    round1s = 0\n",
    "    sum = 0\n",
    "    while round1s < n:\n",
    "        round2s = 0\n",
    "        while round2s > n*n:\n",
    "            sum += 1\n",
    "            round2s += 1\n",
    "        round1s += 1\n",
    "    return sum"
   ]
  },
  {
   "cell_type": "markdown",
   "metadata": {},
   "source": [
    "Algorithm m07"
   ]
  },
  {
   "cell_type": "code",
   "execution_count": null,
   "metadata": {},
   "outputs": [],
   "source": [
    "def m07(n):\n",
    "    round1s = 0\n",
    "    sum = 0\n",
    "    while round1s > n:\n",
    "        round2s = 0\n",
    "        while round2s < 100 * round1s :\n",
    "            sum += 1\n",
    "            round2s += 1\n",
    "        round1s += 1\n",
    "    return sum"
   ]
  },
  {
   "cell_type": "markdown",
   "metadata": {},
   "source": [
    "Algorithm m08"
   ]
  },
  {
   "cell_type": "code",
   "execution_count": null,
   "metadata": {},
   "outputs": [],
   "source": [
    "def m08(n):\n",
    "    round1s = 0\n",
    "    sum = 0\n",
    "    while round1s < n:\n",
    "        round2s = 0\n",
    "        while round2s < 100 * round1s:\n",
    "            sum += 1\n",
    "            round2s += 1\n",
    "        round1s += 1\n",
    "    return sum"
   ]
  },
  {
   "cell_type": "markdown",
   "metadata": {},
   "source": [
    "Algorithm m09"
   ]
  },
  {
   "cell_type": "code",
   "execution_count": null,
   "metadata": {},
   "outputs": [],
   "source": [
    "def m09(n):\n",
    "    round1s = 0\n",
    "    sum = 0\n",
    "    while round1s < n:\n",
    "        round2s = 0\n",
    "        while round2s < n*n:\n",
    "            round3s = 0\n",
    "            while round3s < round2s:\n",
    "                sum += 1\n",
    "                round3s += 1\n",
    "            round2s += 1\n",
    "        round1s += 1\n",
    "    return sum"
   ]
  },
  {
   "cell_type": "markdown",
   "metadata": {},
   "source": [
    "Algorithm m10"
   ]
  },
  {
   "cell_type": "code",
   "execution_count": null,
   "metadata": {},
   "outputs": [],
   "source": [
    "def m10(n):\n",
    "    rounds = 1\n",
    "    sum = 0\n",
    "    while rounds < n:\n",
    "        sum += 1\n",
    "        rounds = rounds * 2\n",
    "    return sum"
   ]
  },
  {
   "cell_type": "markdown",
   "metadata": {},
   "source": [
    "Algorithm m11"
   ]
  },
  {
   "cell_type": "code",
   "execution_count": null,
   "metadata": {},
   "outputs": [],
   "source": [
    "def m11(n):\n",
    "    i = n\n",
    "    sum = 0\n",
    "    while i > 0:\n",
    "        sum += 1\n",
    "        i = i / 2\n",
    "    return sum"
   ]
  },
  {
   "cell_type": "markdown",
   "metadata": {},
   "source": [
    "Algorithm m12"
   ]
  },
  {
   "cell_type": "code",
   "execution_count": 30,
   "metadata": {},
   "outputs": [
    {
     "ename": "IndentationError",
     "evalue": "expected an indented block (669332700.py, line 1)",
     "output_type": "error",
     "traceback": [
      "\u001b[1;36m  Input \u001b[1;32mIn [30]\u001b[1;36m\u001b[0m\n\u001b[1;33m    def m12(n):\u001b[0m\n\u001b[1;37m               ^\u001b[0m\n\u001b[1;31mIndentationError\u001b[0m\u001b[1;31m:\u001b[0m expected an indented block\n"
     ]
    }
   ],
   "source": [
    "def m12(n):\n",
    "    rounds = 1\n",
    "    sum = 0\n",
    "    while rounds < n:\n",
    "        sum += 1\n",
    "        rounds = rounds * 10\n",
    "    return sum"
   ]
  },
  {
   "cell_type": "code",
   "execution_count": 29,
   "metadata": {},
   "outputs": [
    {
     "data": {
      "text/plain": [
       "Text(0.5, 0, 'n')"
      ]
     },
     "execution_count": 29,
     "metadata": {},
     "output_type": "execute_result"
    },
    {
     "data": {
      "image/png": "[encoded data removed]",
      "text/plain": [
       "<Figure size 432x288 with 1 Axes>"
      ]
     },
     "metadata": {
      "needs_background": "light"
     },
     "output_type": "display_data"
    }
   ],
   "source": [
    "#start runtime\n",
    "nInput = int(input(\"Enter number of n: \"))\n",
    "runtime = [] # x-axis\n",
    "n = [] # y-axis\n",
    "for i in range(0,nInput,2):\n",
    "    startTime = time.time()\n",
    "    m01(i)\n",
    "    runtime.append(time.time() - startTime)\n",
    "    n.append(i)\n",
    "\n",
    "#print(runtime)\n",
    "#print(n)\n",
    "plt.plot(n, runtime)\n",
    "plt.ylabel('runtime (Seconds)')\n",
    "plt.xlabel('n')\n"
   ]
  }
 ],
 "metadata": {
  "kernelspec": {
   "display_name": "Python 3.9.13 64-bit (windows store)",
   "language": "python",
   "name": "python3"
  },
  "language_info": {
   "codemirror_mode": {
    "name": "ipython",
    "version": 3
   },
   "file_extension": ".py",
   "mimetype": "text/x-python",
   "name": "python",
   "nbconvert_exporter": "python",
   "pygments_lexer": "ipython3",
   "version": "3.9.13"
  },
  "orig_nbformat": 4,
  "vscode": {
   "interpreter": {
    "hash": "8717c2dc13355d8048b39cd73eea79dbaf699f8798e4be2c6b4f6204c204cb8a"
   }
  }
 },
 "nbformat": 4,
 "nbformat_minor": 2
}
