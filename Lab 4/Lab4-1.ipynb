{
 "cells": [
  {
   "cell_type": "markdown",
   "metadata": {},
   "source": [
    "Siraphop Mukdaphetcharat 64011614"
   ]
  },
  {
   "cell_type": "code",
   "execution_count": 95,
   "metadata": {},
   "outputs": [],
   "source": [
    "#imports\n",
    "from matplotlib import pyplot as plt\n",
    "import timeit\n",
    "import numpy as np"
   ]
  },
  {
   "cell_type": "markdown",
   "metadata": {},
   "source": [
    "Input N"
   ]
  },
  {
   "cell_type": "code",
   "execution_count": 96,
   "metadata": {},
   "outputs": [],
   "source": [
    "#start runtime\n",
    "nInput = int(input(\"Enter number of n: \"))"
   ]
  },
  {
   "cell_type": "code",
   "execution_count": 97,
   "metadata": {},
   "outputs": [],
   "source": [
    "runtime = []\n",
    "n = []\n",
    "for i in range(12):\n",
    "    runtime.append([])\n",
    "    n.append([])"
   ]
  },
  {
   "cell_type": "markdown",
   "metadata": {},
   "source": [
    "Algorithm m01"
   ]
  },
  {
   "cell_type": "code",
   "execution_count": 98,
   "metadata": {},
   "outputs": [],
   "source": [
    "def m01(n): # Function of algorithm m01\n",
    "    startTime = timeit.default_timer()\n",
    "    rounds = 0\n",
    "    sum = 0\n",
    "    while rounds < n:\n",
    "        sum += 1\n",
    "        rounds += 2\n",
    "    end = timeit.default_timer()\n",
    "    return sum, (end - startTime)\n",
    "\n",
    "\n",
    "for i in range(0,nInput,10):\n",
    "    startTime = timeit.default_timer()\n",
    "    m01(i)\n",
    "    end = timeit.default_timer()\n",
    "    runtime[0].append(end - startTime)\n",
    "    n[0].append(i)\n",
    "\n",
    "#print(len(runtime[0]))\n",
    "#plt.plot(n, runtime)\n",
    "#plt.ylabel('runtime (Seconds)')\n",
    "#plt.xlabel('n')"
   ]
  },
  {
   "cell_type": "markdown",
   "metadata": {},
   "source": [
    "Algorithm m02"
   ]
  },
  {
   "cell_type": "code",
   "execution_count": 99,
   "metadata": {},
   "outputs": [],
   "source": [
    "def m02(n): # Function of algorithm m02\n",
    "    startTime = timeit.default_timer()\n",
    "    rounds = 0\n",
    "    sum = 0\n",
    "    while rounds < n:\n",
    "        sum += 1\n",
    "        rounds += 2\n",
    "    end = timeit.default_timer()\n",
    "    return sum, (end - startTime)\n",
    "\n",
    "\n",
    "for i in range(0,nInput,10):\n",
    "    startTime = timeit.default_timer()\n",
    "    m02(i)\n",
    "    end = timeit.default_timer()\n",
    "    runtime[1].append(end - startTime)\n",
    "    n[1].append(i)\n",
    "\n",
    "#plt.plot(n, runtime)\n",
    "#plt.ylabel('runtime (Seconds)')\n",
    "#plt.xlabel('n')"
   ]
  },
  {
   "cell_type": "markdown",
   "metadata": {},
   "source": [
    "Algorithm m03"
   ]
  },
  {
   "cell_type": "code",
   "execution_count": 100,
   "metadata": {},
   "outputs": [],
   "source": [
    "def m03(n): # Function of algorithm m03\n",
    "    startTime = timeit.default_timer()\n",
    "    round1s = 0\n",
    "    sum = 0\n",
    "    while round1s < n:\n",
    "        round2s = 0\n",
    "        while round2s < n:\n",
    "            sum += 1\n",
    "            round2s += 1\n",
    "        round1s += 1\n",
    "    end = timeit.default_timer()\n",
    "    return sum, (end - startTime)\n",
    "\n",
    "\n",
    "for i in range(0,nInput,10):\n",
    "    startTime = timeit.default_timer()\n",
    "    m03(i)\n",
    "    end = timeit.default_timer()\n",
    "    runtime[2].append(end - startTime)\n",
    "    n[2].append(i)\n",
    "\n",
    "#plt.plot(n, runtime)\n",
    "#plt.ylabel('runtime (Seconds)')\n",
    "#plt.xlabel('n')"
   ]
  },
  {
   "cell_type": "markdown",
   "metadata": {},
   "source": [
    "Algorithm m04"
   ]
  },
  {
   "cell_type": "code",
   "execution_count": 101,
   "metadata": {},
   "outputs": [],
   "source": [
    "def m04(n): # Function of algorithm m04\n",
    "    startTime = timeit.default_timer()\n",
    "    round1s = 0\n",
    "    sum = 0\n",
    "    while round1s < n:\n",
    "        round2s = 0\n",
    "        while round2s < n:\n",
    "            sum += 1\n",
    "            round2s += 10\n",
    "        round1s += 20\n",
    "    end = timeit.default_timer()\n",
    "    return sum, (end - startTime)\n",
    "\n",
    "\n",
    "for i in range(0,nInput,10):\n",
    "    startTime = timeit.default_timer()\n",
    "    m04(i)\n",
    "    end = timeit.default_timer()\n",
    "    runtime[3].append(end - startTime)\n",
    "    n[3].append(i)\n",
    "\n",
    "#plt.plot(n, runtime)\n",
    "#plt.ylabel('runtime (Seconds)')\n",
    "#plt.xlabel('n')"
   ]
  },
  {
   "cell_type": "markdown",
   "metadata": {},
   "source": [
    "Algorithm m05"
   ]
  },
  {
   "cell_type": "code",
   "execution_count": 106,
   "metadata": {},
   "outputs": [],
   "source": [
    "def m05(n): # Function of algorithm m05\n",
    "    startTime = timeit.default_timer()\n",
    "    round1s = 0\n",
    "    sum = 0\n",
    "    while round1s < n:\n",
    "        sum += 1\n",
    "        round1s += 1\n",
    "    round2s = 0\n",
    "    while round2s < n:\n",
    "        sum += 1\n",
    "        round2s += 1\n",
    "    end = timeit.default_timer()\n",
    "    return sum, (end - startTime)\n",
    "\n",
    "\n",
    "for i in range(0,nInput,10):\n",
    "    startTime = timeit.default_timer()\n",
    "    m05(i)\n",
    "    end = timeit.default_timer()\n",
    "    runtime[4].append(end - startTime)\n",
    "    n[4].append(i)\n",
    "\n",
    "#plt.plot(n, runtime)\n",
    "#plt.ylabel('runtime (Seconds)')\n",
    "#plt.xlabel('n')"
   ]
  },
  {
   "cell_type": "markdown",
   "metadata": {},
   "source": [
    "Algorithm m06"
   ]
  },
  {
   "cell_type": "code",
   "execution_count": 107,
   "metadata": {},
   "outputs": [],
   "source": [
    "def m06(n): # Function of algorithm m06\n",
    "    startTime = timeit.default_timer()\n",
    "    round1s = 0\n",
    "    sum = 0\n",
    "    while round1s < n:\n",
    "        round2s = 0\n",
    "        while round2s < n*n:\n",
    "            sum += 1\n",
    "            round2s += 1\n",
    "        round1s += 1\n",
    "    end = timeit.default_timer()\n",
    "    return sum, (end - startTime)\n",
    "\n",
    "for i in range(0,nInput,10):\n",
    "    startTime = timeit.default_timer()\n",
    "    m06(i)\n",
    "    end = timeit.default_timer()\n",
    "    runtime[5].append(end - startTime)\n",
    "    n[5].append(i)\n",
    "\n",
    "#plt.plot(n, runtime)\n",
    "#plt.ylabel('runtime (Seconds)')\n",
    "#plt.xlabel('n')\n"
   ]
  },
  {
   "cell_type": "markdown",
   "metadata": {},
   "source": [
    "Algorithm m07"
   ]
  },
  {
   "cell_type": "code",
   "execution_count": 108,
   "metadata": {},
   "outputs": [],
   "source": [
    "def m07(n):\n",
    "    startTime = timeit.default_timer()\n",
    "    round1s = 0\n",
    "    sum = 0\n",
    "    while round1s < n:\n",
    "        round2s = 0\n",
    "        while round2s < 100 * round1s :\n",
    "            sum += 1\n",
    "            round2s += 1\n",
    "        round1s += 1\n",
    "    end = timeit.default_timer()\n",
    "    return sum, (end - startTime)\n",
    "\n",
    "\n",
    "for i in range(0,nInput,10):\n",
    "    startTime = timeit.default_timer()\n",
    "    m07(i)\n",
    "    end = timeit.default_timer()\n",
    "    runtime[6].append(end - startTime)\n",
    "    n[6].append(i)\n",
    "\n",
    "#plt.plot(n, runtime)\n",
    "#plt.ylabel('runtime (Seconds)')\n",
    "#plt.xlabel('n')"
   ]
  },
  {
   "cell_type": "markdown",
   "metadata": {},
   "source": [
    "Algorithm m08"
   ]
  },
  {
   "cell_type": "code",
   "execution_count": 109,
   "metadata": {},
   "outputs": [],
   "source": [
    "def m08(n):\n",
    "    startTime = timeit.default_timer()\n",
    "    round1s = 0\n",
    "    sum = 0\n",
    "    while round1s < n:\n",
    "        round2s = 0\n",
    "        while round2s < 100 * round1s:\n",
    "            sum += 1\n",
    "            round2s += 1\n",
    "        round1s += 1\n",
    "    end = timeit.default_timer()\n",
    "    return sum, (end - startTime)\n",
    "\n",
    "\n",
    "for i in range(0,nInput,10):\n",
    "    startTime = timeit.default_timer()\n",
    "    m08(i)\n",
    "    end = timeit.default_timer()\n",
    "    runtime[7].append(end - startTime)\n",
    "    n[7].append(i)\n",
    "\n",
    "#plt.plot(n, runtime)\n",
    "#plt.ylabel('runtime (Seconds)')\n",
    "#plt.xlabel('n')"
   ]
  },
  {
   "cell_type": "markdown",
   "metadata": {},
   "source": [
    "Algorithm m09"
   ]
  },
  {
   "cell_type": "code",
   "execution_count": 110,
   "metadata": {},
   "outputs": [],
   "source": [
    "def m09(n):\n",
    "    startTime = timeit.default_timer()\n",
    "    round1s = 0\n",
    "    sum = 0\n",
    "    while round1s < n:\n",
    "        round2s = 0\n",
    "        while round2s < n*n:\n",
    "            round3s = 0\n",
    "            while round3s < round2s:\n",
    "                sum += 1\n",
    "                round3s += 1\n",
    "            round2s += 1\n",
    "        round1s += 1\n",
    "    end = timeit.default_timer()\n",
    "    return sum, (end - startTime)\n",
    "\n",
    "\n",
    "for i in range(0,nInput,10):\n",
    "    startTime = timeit.default_timer()\n",
    "    m09(i)\n",
    "    end = timeit.default_timer()\n",
    "    runtime[8].append(end - startTime)\n",
    "    n[8].append(i)\n",
    "\n",
    "#plt.plot(n, runtime)\n",
    "#plt.ylabel('runtime (Seconds)')\n",
    "#plt.xlabel('n')"
   ]
  },
  {
   "cell_type": "markdown",
   "metadata": {},
   "source": [
    "Algorithm m10"
   ]
  },
  {
   "cell_type": "code",
   "execution_count": 74,
   "metadata": {},
   "outputs": [],
   "source": [
    "def m10(n):\n",
    "    startTime = timeit.default_timer()\n",
    "    rounds = 1\n",
    "    sum = 0\n",
    "    while rounds < n:\n",
    "        sum += 1\n",
    "        rounds = rounds * 2\n",
    "    end = timeit.default_timer()\n",
    "    return sum, (end - startTime)\n",
    "\n",
    "\n",
    "for i in range(0,nInput,10):\n",
    "    startTime = timeit.default_timer()\n",
    "    m10(i)\n",
    "    end = timeit.default_timer()\n",
    "    runtime[9].append(end - startTime)\n",
    "    n[9].append(i)\n",
    "\n",
    "#plt.plot(n, runtime)\n",
    "#plt.ylabel('runtime (Seconds)')\n",
    "#plt.xlabel('n')"
   ]
  },
  {
   "cell_type": "markdown",
   "metadata": {},
   "source": [
    "Algorithm m11"
   ]
  },
  {
   "cell_type": "code",
   "execution_count": 75,
   "metadata": {},
   "outputs": [],
   "source": [
    "def m11(n):\n",
    "    startTime = timeit.default_timer()\n",
    "    i = n\n",
    "    sum = 0\n",
    "    while i > 0:\n",
    "        sum += 1\n",
    "        i = i / 2\n",
    "    end = timeit.default_timer()\n",
    "    return sum, (end - startTime)\n",
    "\n",
    "\n",
    "for i in range(0,nInput,10):\n",
    "    startTime = timeit.default_timer()\n",
    "    m11(i)\n",
    "    end = timeit.default_timer()\n",
    "    runtime[10].append(end - startTime)\n",
    "    n[10].append(i)\n",
    "\n",
    "#plt.plot(n, runtime)\n",
    "#plt.ylabel('runtime (Seconds)')\n",
    "#plt.xlabel('n')"
   ]
  },
  {
   "cell_type": "markdown",
   "metadata": {},
   "source": [
    "Algorithm m12"
   ]
  },
  {
   "cell_type": "code",
   "execution_count": 76,
   "metadata": {},
   "outputs": [],
   "source": [
    "def m12(n):\n",
    "    startTime = timeit.default_timer()\n",
    "    rounds = 1\n",
    "    sum = 0\n",
    "    while rounds < n:\n",
    "        sum += 1\n",
    "        rounds = rounds * 10\n",
    "    end = timeit.default_timer()\n",
    "    return sum, (end - startTime)\n",
    "\n",
    "\n",
    "for i in range(0,nInput,10):\n",
    "    startTime = timeit.default_timer()\n",
    "    m12(i)\n",
    "    end = timeit.default_timer()\n",
    "    runtime[11].append(end - startTime)\n",
    "    n[11].append(i)\n",
    "\n"
   ]
  },
  {
   "cell_type": "code",
   "execution_count": 41,
   "metadata": {},
   "outputs": [],
   "source": [
    "#def main(n):\n",
    "    #pos = []\n",
    "    #for i in range(n):\n",
    "        #pos.append([])\n",
    "    \n",
    "    #nValue = []\n",
    "    #for i in range(n):\n",
    "        #nValue.append(i)\n",
    "        #pos[i].append(m01(i)[1])\n",
    "        #pos[i].append(m02(i)[1])\n",
    "        #pos[i].append(m03(i)[1])\n",
    "        #pos[i].append(m04(i)[1])\n",
    "        #pos[i].append(m05(i)[1])\n",
    "        #pos[i].append(m06(i)[1])\n",
    "        #pos[i].append(m07(i)[1])\n",
    "        #pos[i].append(m08(i)[1])\n",
    "        #pos[i].append(m09(i)[1])\n",
    "        #pos[i].append(m10(i)[1])\n",
    "        #pos[i].append(m11(i)[1])\n",
    "        #pos[i].append(m12(i)[1])\n",
    "    \n",
    "    #pos_matrix = np.array(pos)\n",
    "    #pos_matrix = pos_matrix.T\n",
    "\n",
    "    #for i in pos_matrix:\n",
    "        #plt.plot(nValue, i)\n",
    "        #plt.ylabel('runtime (Seconds)')\n",
    "        #plt.xlabel('n')"
   ]
  },
  {
   "cell_type": "code",
   "execution_count": 89,
   "metadata": {},
   "outputs": [
    {
     "data": {
      "image/png": "[encoded data removed]",
      "text/plain": [
       "<Figure size 432x288 with 1 Axes>"
      ]
     },
     "metadata": {
      "needs_background": "light"
     },
     "output_type": "display_data"
    }
   ],
   "source": [
    "def main():\n",
    "    for i in range(len(runtime)):\n",
    "        plt.plot(n[i], runtime[i])\n",
    "        plt.ylabel('runtime (Seconds)')\n",
    "        plt.xlabel('n')\n",
    "\n",
    "main()"
   ]
  },
  {
   "cell_type": "code",
   "execution_count": 42,
   "metadata": {},
   "outputs": [
    {
     "ename": "KeyboardInterrupt",
     "evalue": "",
     "output_type": "error",
     "traceback": [
      "\u001b[1;31m---------------------------------------------------------------------------\u001b[0m",
      "\u001b[1;31mKeyboardInterrupt\u001b[0m                         Traceback (most recent call last)",
      "\u001b[1;32mc:\\Users\\Tonkhaow\\Desktop\\PCA\\Principal-of-Computation-and-Application\\Lab 4\\Lab4-1.ipynb Cell 30\u001b[0m in \u001b[0;36m<cell line: 1>\u001b[1;34m()\u001b[0m\n\u001b[1;32m----> <a href='vscode-notebook-cell:/c%3A/Users/Tonkhaow/Desktop/PCA/Principal-of-Computation-and-Application/Lab%204/Lab4-1.ipynb#X42sZmlsZQ%3D%3D?line=0'>1</a>\u001b[0m main(nInput)\n",
      "\u001b[1;32mc:\\Users\\Tonkhaow\\Desktop\\PCA\\Principal-of-Computation-and-Application\\Lab 4\\Lab4-1.ipynb Cell 30\u001b[0m in \u001b[0;36mmain\u001b[1;34m(n)\u001b[0m\n\u001b[0;32m     <a href='vscode-notebook-cell:/c%3A/Users/Tonkhaow/Desktop/PCA/Principal-of-Computation-and-Application/Lab%204/Lab4-1.ipynb#X42sZmlsZQ%3D%3D?line=10'>11</a>\u001b[0m pos[i]\u001b[39m.\u001b[39mappend(m03(i)[\u001b[39m1\u001b[39m])\n\u001b[0;32m     <a href='vscode-notebook-cell:/c%3A/Users/Tonkhaow/Desktop/PCA/Principal-of-Computation-and-Application/Lab%204/Lab4-1.ipynb#X42sZmlsZQ%3D%3D?line=11'>12</a>\u001b[0m pos[i]\u001b[39m.\u001b[39mappend(m04(i)[\u001b[39m1\u001b[39m])\n\u001b[1;32m---> <a href='vscode-notebook-cell:/c%3A/Users/Tonkhaow/Desktop/PCA/Principal-of-Computation-and-Application/Lab%204/Lab4-1.ipynb#X42sZmlsZQ%3D%3D?line=12'>13</a>\u001b[0m pos[i]\u001b[39m.\u001b[39mappend(m05(i)[\u001b[39m1\u001b[39m])\n\u001b[0;32m     <a href='vscode-notebook-cell:/c%3A/Users/Tonkhaow/Desktop/PCA/Principal-of-Computation-and-Application/Lab%204/Lab4-1.ipynb#X42sZmlsZQ%3D%3D?line=13'>14</a>\u001b[0m pos[i]\u001b[39m.\u001b[39mappend(m06(i)[\u001b[39m1\u001b[39m])\n\u001b[0;32m     <a href='vscode-notebook-cell:/c%3A/Users/Tonkhaow/Desktop/PCA/Principal-of-Computation-and-Application/Lab%204/Lab4-1.ipynb#X42sZmlsZQ%3D%3D?line=14'>15</a>\u001b[0m pos[i]\u001b[39m.\u001b[39mappend(m07(i)[\u001b[39m1\u001b[39m])\n",
      "\u001b[1;32mc:\\Users\\Tonkhaow\\Desktop\\PCA\\Principal-of-Computation-and-Application\\Lab 4\\Lab4-1.ipynb Cell 30\u001b[0m in \u001b[0;36mm05\u001b[1;34m(n)\u001b[0m\n\u001b[0;32m      <a href='vscode-notebook-cell:/c%3A/Users/Tonkhaow/Desktop/PCA/Principal-of-Computation-and-Application/Lab%204/Lab4-1.ipynb#X42sZmlsZQ%3D%3D?line=4'>5</a>\u001b[0m \u001b[39mwhile\u001b[39;00m round1s \u001b[39m<\u001b[39m n:\n\u001b[0;32m      <a href='vscode-notebook-cell:/c%3A/Users/Tonkhaow/Desktop/PCA/Principal-of-Computation-and-Application/Lab%204/Lab4-1.ipynb#X42sZmlsZQ%3D%3D?line=5'>6</a>\u001b[0m     \u001b[39msum\u001b[39m \u001b[39m+\u001b[39m\u001b[39m=\u001b[39m \u001b[39m1\u001b[39m\n\u001b[1;32m----> <a href='vscode-notebook-cell:/c%3A/Users/Tonkhaow/Desktop/PCA/Principal-of-Computation-and-Application/Lab%204/Lab4-1.ipynb#X42sZmlsZQ%3D%3D?line=6'>7</a>\u001b[0m     round1s \u001b[39m=\u001b[39m \u001b[39m0\u001b[39m\n\u001b[0;32m      <a href='vscode-notebook-cell:/c%3A/Users/Tonkhaow/Desktop/PCA/Principal-of-Computation-and-Application/Lab%204/Lab4-1.ipynb#X42sZmlsZQ%3D%3D?line=7'>8</a>\u001b[0m round2s \u001b[39m=\u001b[39m \u001b[39m0\u001b[39m\n\u001b[0;32m      <a href='vscode-notebook-cell:/c%3A/Users/Tonkhaow/Desktop/PCA/Principal-of-Computation-and-Application/Lab%204/Lab4-1.ipynb#X42sZmlsZQ%3D%3D?line=8'>9</a>\u001b[0m \u001b[39mwhile\u001b[39;00m round2s \u001b[39m<\u001b[39m n:\n",
      "\u001b[1;31mKeyboardInterrupt\u001b[0m: "
     ]
    }
   ],
   "source": [
    "#main(nInput)"
   ]
  }
 ],
 "metadata": {
  "kernelspec": {
   "display_name": "Python 3.9.13 64-bit (windows store)",
   "language": "python",
   "name": "python3"
  },
  "language_info": {
   "codemirror_mode": {
    "name": "ipython",
    "version": 3
   },
   "file_extension": ".py",
   "mimetype": "text/x-python",
   "name": "python",
   "nbconvert_exporter": "python",
   "pygments_lexer": "ipython3",
   "version": "3.9.13"
  },
  "orig_nbformat": 4,
  "vscode": {
   "interpreter": {
    "hash": "8717c2dc13355d8048b39cd73eea79dbaf699f8798e4be2c6b4f6204c204cb8a"
   }
  }
 },
 "nbformat": 4,
 "nbformat_minor": 2
}
