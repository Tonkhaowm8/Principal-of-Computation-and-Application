{
 "cells": [
  {
   "cell_type": "markdown",
   "metadata": {},
   "source": [
    "Recursive Practice"
   ]
  },
  {
   "cell_type": "code",
   "execution_count": 2,
   "metadata": {},
   "outputs": [
    {
     "name": "stdout",
     "output_type": "stream",
     "text": [
      "5\n",
      "4\n",
      "3\n",
      "2\n",
      "1\n",
      "4\n",
      "3\n",
      "2\n",
      "1\n",
      "3\n",
      "2\n",
      "1\n",
      "2\n",
      "1\n",
      "1\n"
     ]
    }
   ],
   "source": [
    "userInput = int(input(\"Enter input number: \"))\n",
    "\n",
    "def recursive(ip, first = True):\n",
    "    if first:\n",
    "        if ip > 0:\n",
    "            print(\"*\" * ip)\n",
    "            recursive(ip - 1, first = False)\n",
    "            recursive(ip - 1)\n",
    "    else:\n",
    "        if ip > 0:\n",
    "            print(\"*\" * ip)\n",
    "            recursive(ip - 1, first = False)\n",
    "\n",
    "\n",
    "recursive(userInput)"
   ]
  },
  {
   "cell_type": "markdown",
   "metadata": {},
   "source": [
    "![Getting Started](q1.png)"
   ]
  }
 ],
 "metadata": {
  "kernelspec": {
   "display_name": "Python 3.9.13 64-bit (microsoft store)",
   "language": "python",
   "name": "python3"
  },
  "language_info": {
   "codemirror_mode": {
    "name": "ipython",
    "version": 3
   },
   "file_extension": ".py",
   "mimetype": "text/x-python",
   "name": "python",
   "nbconvert_exporter": "python",
   "pygments_lexer": "ipython3",
   "version": "3.9.13"
  },
  "orig_nbformat": 4,
  "vscode": {
   "interpreter": {
    "hash": "8717c2dc13355d8048b39cd73eea79dbaf699f8798e4be2c6b4f6204c204cb8a"
   }
  }
 },
 "nbformat": 4,
 "nbformat_minor": 2
}
